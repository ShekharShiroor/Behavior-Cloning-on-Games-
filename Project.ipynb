{
 "cells": [
  {
   "cell_type": "markdown",
   "metadata": {},
   "source": [
    "# import library for Deep Learning using Tensorflow (Training to be done on GPU)"
   ]
  },
  {
   "cell_type": "code",
   "execution_count": 9,
   "metadata": {
    "scrolled": true
   },
   "outputs": [
    {
     "name": "stdout",
     "output_type": "stream",
     "text": [
      "curses is not supported on this machine (please install/reinstall curses for an optimal experience)\n",
      "Scipy not supported!\n"
     ]
    }
   ],
   "source": [
    "\n",
    "import tensorflow as tf\n",
    "import tflearn \n"
   ]
  },
  {
   "cell_type": "markdown",
   "metadata": {},
   "source": [
    "# Import library for preprocessing of data"
   ]
  },
  {
   "cell_type": "code",
   "execution_count": 1,
   "metadata": {
    "collapsed": true
   },
   "outputs": [],
   "source": [
    "import numpy as np\n",
    "import pandas as pd\n",
    "from PIL import ImageGrab\n",
    "import cv2 as cv2\n",
    "import keyboard\n",
    "from tqdm import tqdm\n",
    "import time\n",
    "import os"
   ]
  },
  {
   "cell_type": "markdown",
   "metadata": {},
   "source": [
    "# Testing the Screen grab and key grab here"
   ]
  },
  {
   "cell_type": "code",
   "execution_count": 15,
   "metadata": {
    "scrolled": true
   },
   "outputs": [
    {
     "name": "stdout",
     "output_type": "stream",
     "text": [
      "S pressed\n",
      "S pressed\n",
      "S pressed\n",
      "W pressed\n",
      "W pressed\n",
      "W pressed\n",
      "S pressed\n",
      "S pressed\n",
      "S pressed\n",
      "W pressed\n",
      "W pressed\n",
      "S pressed\n",
      "S pressed\n",
      "S pressed\n",
      "W pressed\n",
      "W pressed\n",
      "W pressed\n",
      "W pressed\n",
      "S pressed\n",
      "S pressed\n",
      "S pressed\n",
      "S pressed\n",
      "S pressed\n",
      "S pressed\n",
      "S pressed\n",
      "S pressed\n",
      "W pressed\n",
      "W pressed\n",
      "W pressed\n",
      "S pressed\n",
      "S pressed\n",
      "W pressed\n",
      "W pressed\n",
      "W pressed\n",
      "W pressed\n",
      "W pressed\n",
      "W pressed\n",
      "W pressed\n",
      "S pressed\n",
      "S pressed\n",
      "S pressed\n",
      "S pressed\n",
      "S pressed\n",
      "W pressed\n",
      "W pressed\n",
      "W pressed\n",
      "W pressed\n",
      "S pressed\n",
      "S pressed\n",
      "S pressed\n",
      "S pressed\n",
      "S pressed\n",
      "S pressed\n",
      "S pressed\n",
      "W pressed\n",
      "W pressed\n",
      "W pressed\n",
      "W pressed\n",
      "W pressed\n",
      "W pressed\n",
      "W pressed\n",
      "W pressed\n",
      "W pressed\n",
      "W pressed\n",
      "S pressed\n",
      "S pressed\n",
      "S pressed\n",
      "S pressed\n",
      "S pressed\n",
      "S pressed\n",
      "W pressed\n",
      "W pressed\n",
      "W pressed\n",
      "S pressed\n",
      "S pressed\n",
      "W pressed\n",
      "W pressed\n",
      "W pressed\n",
      "W pressed\n",
      "S pressed\n",
      "S pressed\n",
      "S pressed\n",
      "W pressed\n",
      "W pressed\n",
      "W pressed\n"
     ]
    },
    {
     "ename": "KeyboardInterrupt",
     "evalue": "",
     "output_type": "error",
     "traceback": [
      "\u001b[1;31m---------------------------------------------------------------------------\u001b[0m",
      "\u001b[1;31mKeyboardInterrupt\u001b[0m                         Traceback (most recent call last)",
      "\u001b[1;32m<ipython-input-15-e0b99666e644>\u001b[0m in \u001b[0;36m<module>\u001b[1;34m()\u001b[0m\n\u001b[0;32m      1\u001b[0m \u001b[1;32mwhile\u001b[0m \u001b[1;32mTrue\u001b[0m\u001b[1;33m:\u001b[0m\u001b[1;33m\u001b[0m\u001b[0m\n\u001b[1;32m----> 2\u001b[1;33m     \u001b[0mcv2\u001b[0m\u001b[1;33m.\u001b[0m\u001b[0mimshow\u001b[0m\u001b[1;33m(\u001b[0m\u001b[1;34m'window'\u001b[0m\u001b[1;33m,\u001b[0m\u001b[0mcv2\u001b[0m\u001b[1;33m.\u001b[0m\u001b[0mresize\u001b[0m\u001b[1;33m(\u001b[0m\u001b[0mcv2\u001b[0m\u001b[1;33m.\u001b[0m\u001b[0mcvtColor\u001b[0m\u001b[1;33m(\u001b[0m\u001b[0mnp\u001b[0m\u001b[1;33m.\u001b[0m\u001b[0marray\u001b[0m\u001b[1;33m(\u001b[0m\u001b[0mImageGrab\u001b[0m\u001b[1;33m.\u001b[0m\u001b[0mgrab\u001b[0m\u001b[1;33m(\u001b[0m\u001b[0mbbox\u001b[0m\u001b[1;33m=\u001b[0m\u001b[1;33m(\u001b[0m\u001b[1;36m0\u001b[0m\u001b[1;33m,\u001b[0m\u001b[1;36m40\u001b[0m\u001b[1;33m,\u001b[0m\u001b[1;36m640\u001b[0m\u001b[1;33m,\u001b[0m\u001b[1;36m510\u001b[0m\u001b[1;33m)\u001b[0m\u001b[1;33m)\u001b[0m\u001b[1;33m)\u001b[0m\u001b[1;33m,\u001b[0m\u001b[0mcv2\u001b[0m\u001b[1;33m.\u001b[0m\u001b[0mCOLOR_BGR2GRAY\u001b[0m\u001b[1;33m)\u001b[0m\u001b[1;33m,\u001b[0m\u001b[1;33m(\u001b[0m\u001b[1;36m500\u001b[0m\u001b[1;33m,\u001b[0m\u001b[1;36m400\u001b[0m\u001b[1;33m)\u001b[0m\u001b[1;33m)\u001b[0m\u001b[1;33m)\u001b[0m\u001b[1;33m\u001b[0m\u001b[0m\n\u001b[0m\u001b[0;32m      3\u001b[0m     \u001b[1;32mif\u001b[0m \u001b[0mkeyboard\u001b[0m\u001b[1;33m.\u001b[0m\u001b[0mis_pressed\u001b[0m\u001b[1;33m(\u001b[0m\u001b[1;34m'W'\u001b[0m\u001b[1;33m)\u001b[0m\u001b[1;33m:\u001b[0m\u001b[1;33m\u001b[0m\u001b[0m\n\u001b[0;32m      4\u001b[0m         \u001b[0mprint\u001b[0m\u001b[1;33m(\u001b[0m\u001b[1;34m\"W pressed\"\u001b[0m\u001b[1;33m)\u001b[0m\u001b[1;33m\u001b[0m\u001b[0m\n\u001b[0;32m      5\u001b[0m     \u001b[1;32mif\u001b[0m \u001b[0mkeyboard\u001b[0m\u001b[1;33m.\u001b[0m\u001b[0mis_pressed\u001b[0m\u001b[1;33m(\u001b[0m\u001b[1;34m'S'\u001b[0m\u001b[1;33m)\u001b[0m\u001b[1;33m:\u001b[0m\u001b[1;33m\u001b[0m\u001b[0m\n",
      "\u001b[1;32mc:\\users\\shekhar shiroor\\appdata\\local\\programs\\python\\python35\\lib\\site-packages\\PIL\\ImageGrab.py\u001b[0m in \u001b[0;36mgrab\u001b[1;34m(bbox)\u001b[0m\n\u001b[0;32m     39\u001b[0m         \u001b[0mos\u001b[0m\u001b[1;33m.\u001b[0m\u001b[0munlink\u001b[0m\u001b[1;33m(\u001b[0m\u001b[0mfilepath\u001b[0m\u001b[1;33m)\u001b[0m\u001b[1;33m\u001b[0m\u001b[0m\n\u001b[0;32m     40\u001b[0m     \u001b[1;32melse\u001b[0m\u001b[1;33m:\u001b[0m\u001b[1;33m\u001b[0m\u001b[0m\n\u001b[1;32m---> 41\u001b[1;33m         \u001b[0msize\u001b[0m\u001b[1;33m,\u001b[0m \u001b[0mdata\u001b[0m \u001b[1;33m=\u001b[0m \u001b[0mgrabber\u001b[0m\u001b[1;33m(\u001b[0m\u001b[1;33m)\u001b[0m\u001b[1;33m\u001b[0m\u001b[0m\n\u001b[0m\u001b[0;32m     42\u001b[0m         im = Image.frombytes(\n\u001b[0;32m     43\u001b[0m             \u001b[1;34m\"RGB\"\u001b[0m\u001b[1;33m,\u001b[0m \u001b[0msize\u001b[0m\u001b[1;33m,\u001b[0m \u001b[0mdata\u001b[0m\u001b[1;33m,\u001b[0m\u001b[1;33m\u001b[0m\u001b[0m\n",
      "\u001b[1;31mKeyboardInterrupt\u001b[0m: "
     ]
    }
   ],
   "source": [
    "while True:\n",
    "    cv2.imshow('window',cv2.resize(cv2.cvtColor(np.array(ImageGrab.grab(bbox=(0,40,640,510))),cv2.COLOR_BGR2GRAY),(500,400)))\n",
    "    if keyboard.is_pressed('W'):\n",
    "        print(\"W pressed\")\n",
    "    if keyboard.is_pressed('S'):\n",
    "        print(\"S pressed\")    \n",
    "    if cv2.waitKey(25) and 0xFF == ord('q'):\n",
    "        cv2.destroyAllWindows()\n",
    "        break"
   ]
  },
  {
   "cell_type": "markdown",
   "metadata": {},
   "source": [
    "# preprocessing the data for training"
   ]
  },
  {
   "cell_type": "code",
   "execution_count": null,
   "metadata": {
    "collapsed": true
   },
   "outputs": [],
   "source": [
    "'''\n",
    "\n",
    "The Preprocessing is done as follows : -\n",
    "\n",
    "Grab the game screen with pillow library of box size = (0,40,640,510)\n",
    "Use openCV to convert the image into Gray scale image.\n",
    "Listen to the keyboard for input to the game (here W or S or nothing)\n",
    "Save the key pressed in the form of 'one hot encoding' \n",
    "append the captured frame and key(one hot encoding) in a numpy array \n",
    "repeat n number of times\n",
    "\n",
    "CAUTION !! careful what the n should be higher number might result in running out of memory.\n",
    "\n",
    "reshape the data so as to have the frame and its respective one hot encoding in the same row for easy use later on.\n",
    "Save the numpy array to disk so that you can use it later or have it as a dataset for the Retropong game.\n",
    "\n",
    "'''"
   ]
  },
  {
   "cell_type": "code",
   "execution_count": 3,
   "metadata": {
    "scrolled": true
   },
   "outputs": [
    {
     "name": "stderr",
     "output_type": "stream",
     "text": [
      "100%|████████████████████████████████████████████████████████████████████████████| 50000/50000 [30:58<00:00, 26.91it/s]\n"
     ]
    }
   ],
   "source": [
    "time.sleep(2)\n",
    "\n",
    "array = []\n",
    "key = []\n",
    "frame = []\n",
    "for i in tqdm(range(0,50000)):\n",
    "    frame = np.array(cv2.resize(cv2.cvtColor( np.array(ImageGrab.grab(bbox=(0,40,640,510))),cv2.COLOR_BGR2GRAY),(100,100)))\n",
    "    frame = frame.flatten()\n",
    "    if keyboard.is_pressed('W'):\n",
    "        key = np.array([1,0,0])\n",
    "        array = np.append(array,(frame,key))\n",
    "    elif keyboard.is_pressed('S'):\n",
    "        key = np.array([0,1,0])\n",
    "        array = np.append(array,(frame,key))  \n",
    "    else:\n",
    "        key = np.array([0,0,1])\n",
    "        array = np.append(array,(frame,key))\n",
    "\n",
    "array = np.array(array)\n",
    "array = array.reshape(50000,2)\n",
    "array.shape\n",
    "np.save('data.npy',array)"
   ]
  },
  {
   "cell_type": "markdown",
   "metadata": {},
   "source": [
    "# Start the Training on the Neural Network In Tensorflow"
   ]
  },
  {
   "cell_type": "code",
   "execution_count": null,
   "metadata": {
    "collapsed": true
   },
   "outputs": [],
   "source": [
    "\n",
    "n_classes = 3\n",
    "batch_size = 16\n",
    "\n",
    "x = tf.placeholder(tf.float32, [None, 200,200])\n",
    "y = tf.placeholder(tf.float32, [None, 3])\n",
    "\n",
    "keep_rate = 0.8\n",
    "keep_prob = tf.placeholder(tf.float32)\n",
    "\n",
    "\n",
    "def cnn_and_dnn(x):\n",
    "    with tf.device(\"/cpu:0\"):\n",
    "        weights = {'conv1_W':tf.Variable(tf.random_normal([5,5,1,32])),\n",
    "                   'conv2_W':tf.Variable(tf.random_normal([5,5,32,64])),\n",
    "                   'conv3_W':tf.Variable(tf.random_normal([5,5,64,128])),\n",
    "                   'fc_1':tf.Variable(tf.random_normal([512,1024])),\n",
    "                   'fc_2':tf.Variable(tf.random_normal([1024,512])),\n",
    "                   'output':tf.Variable(tf.random_normal([512, n_classes]))}\n",
    "\n",
    "        biases = {'conv1_B':tf.Variable(tf.random_normal([32])),\n",
    "                   'conv2_B':tf.Variable(tf.random_normal([64])),\n",
    "                   'conv3_B':tf.Variable(tf.random_normal([128])),\n",
    "                   'fc_1':tf.Variable(tf.random_normal([1024])),\n",
    "                   'fc_2':tf.Variable(tf.random_normal([512])),\n",
    "                   'output':tf.Variable(tf.random_normal([n_classes]))}\n",
    "\n",
    "        x = tf.reshape(x, shape=[-1, 100, 100, 1])\n",
    "    \n",
    "    with tf.device(\"/gpu:0\"):\n",
    "        conv1 = tf.nn.relu(tf.nn.conv2d(x, weights['conv1_W'], strides=[1,2,2,1], padding='SAME') + biases['conv1_B'])\n",
    "        conv1 = tf.nn.max_pool(conv1, ksize=[1,2,2,1], strides=[1,2,2,1], padding='SAME')\n",
    "\n",
    "        conv1 = tf.nn.relu(tf.nn.conv2d(conv1, weights['conv2_W'], strides=[1,2,2,1], padding='SAME') + biases['conv2_B'])\n",
    "        conv1 = tf.nn.max_pool(conv1, ksize=[1,2,2,1], strides=[1,2,2,1], padding='SAME')\n",
    "\n",
    "        conv1 = tf.nn.relu(tf.nn.conv2d(conv1, weights['conv3_W'], strides=[1,2,2,1], padding='SAME') + biases['conv3_B'])\n",
    "        conv1 = tf.nn.max_pool(conv1, ksize=[1,2,2,1], strides=[1,2,2,1], padding='SAME')\n",
    "\n",
    "        #fc = tf.reshape(conv1,[-1, 8192])\n",
    "        poolShape = conv1.get_shape().as_list()\n",
    "\n",
    "        fc = tf.reshape(conv1, [-1, poolShape[1] * poolShape[2] * poolShape[3]])\n",
    "\n",
    "        fc = tf.nn.relu(tf.matmul(fc, weights['fc_1'])+biases['fc_1'])\n",
    "        fc = tf.nn.dropout(fc, keep_rate)\n",
    "        fc = tf.nn.relu(tf.matmul(fc, weights['fc_2'])+biases['fc_2'])\n",
    "        fc = tf.nn.dropout(fc, keep_rate)\n",
    "\n",
    "        output = tf.matmul(fc, weights['output'])+biases['output']\n",
    "\n",
    "    return output\n",
    "\n",
    "def train(x):\n",
    "    prediction = cnn_and_dnn(x)\n",
    "    cost = tf.reduce_mean( tf.nn.softmax_cross_entropy_with_logits(logits = prediction,labels = y) )\n",
    "    optimizer = tf.train.AdamOptimizer().minimize(cost)\n",
    "    \n",
    "    hm_epochs = 10\n",
    "    with tf.Session() as sess:\n",
    "        sess.run(tf.global_variables_initializer())\n",
    "\n",
    "        for epoch in range(hm_epochs):\n",
    "            epoch_loss = 0\n",
    "            array = np.load('data.npy')\n",
    "            array = array.reshape(8000,2)\n",
    "            num_mini_batches = int(array.size/batch_size)\n",
    "            for _ in range(num_mini_batches):\n",
    "                counter = 0\n",
    "                if int(array.size) >= batch_size:\n",
    "                    counter = batch_size\n",
    "                else:\n",
    "                    counter = int(array.size)\n",
    "                \n",
    "                epoch_x = np.empty([counter,100,100])\n",
    "                epoch_y = np.empty([counter,3])\n",
    "                \n",
    "                for i in range(0,counter):\n",
    "                    epoch_x[i] = array[i][0]\n",
    "                    epoch_y[i] = array[i][1]\n",
    "                \n",
    "                \n",
    "                _, c = sess.run([optimizer, cost], feed_dict={x: epoch_x, y: epoch_y})\n",
    "                epoch_loss += c\n",
    "                \n",
    "                array = array[counter:]\n",
    "\n",
    "            print('Epoch', epoch, 'completed out of',hm_epochs,'loss:',epoch_loss)\n",
    "\n",
    "        #correct = tf.equal(tf.argmax(prediction, 1), tf.argmax(y, 1))\n",
    "        print(\"Training Done !!!\")\n",
    "        #accuracy = tf.reduce_mean(tf.cast(correct, 'float'))\n",
    "        #print('Accuracy:',accuracy.eval({x:mnist.test.images, y:mnist.test.labels}))\n",
    "\n",
    "train(x)"
   ]
  },
  {
   "cell_type": "markdown",
   "metadata": {},
   "source": [
    "# Load the necessary TFLearn Libraries."
   ]
  },
  {
   "cell_type": "code",
   "execution_count": 10,
   "metadata": {
    "collapsed": true
   },
   "outputs": [],
   "source": [
    "from tflearn.layers.conv import conv_2d, max_pool_2d\n",
    "from tflearn.layers.core import input_data, dropout, fully_connected\n",
    "from tflearn.layers.estimator import regression"
   ]
  },
  {
   "cell_type": "markdown",
   "metadata": {},
   "source": [
    "# Neural Network training using TFlearn"
   ]
  },
  {
   "cell_type": "code",
   "execution_count": 10,
   "metadata": {},
   "outputs": [
    {
     "name": "stdout",
     "output_type": "stream",
     "text": [
      "Training Step: 23459  | total loss: 0.18613 | time: 201.855s\n",
      "| Adam | epoch: 010 | loss: 0.18613 - acc: 0.9475 -- iter: 49984/50000\n",
      "Training Step: 23460  | total loss: 0.17999 | time: 214.667s\n",
      "| Adam | epoch: 010 | loss: 0.17999 - acc: 0.9512 | val_loss: 2.11440 - val_acc: 0.5076 -- iter: 50000/50000\n",
      "--\n",
      "INFO:tensorflow:C:\\Users\\Shekhar Shiroor\\retropong-like-resnet-50000 is not in all_model_checkpoint_paths. Manually adding it.\n"
     ]
    }
   ],
   "source": [
    "#tf.global_variables_initializer()\n",
    "tf.reset_default_graph()\n",
    "\n",
    "IMG_SIZE = 100\n",
    "LR = 1e-3\n",
    "\n",
    "MODEL_NAME = 'retropong-like-resnet-50000'\n",
    "\n",
    "array = np.load('data.npy')\n",
    "array = array.reshape(50000,2)\n",
    "\n",
    "test = np.load('test.npy')\n",
    "test = test.reshape(10000,2)\n",
    "\n",
    "convnet = input_data(shape=[None, IMG_SIZE, IMG_SIZE, 1], name='input')\n",
    "\n",
    "\n",
    "# VGG 19 start here\n",
    "'''\n",
    "convnet = conv_2d(convnet, 16, 3, activation='relu')\n",
    "\n",
    "convnet = conv_2d(convnet, 16, 3, activation='relu')\n",
    "\n",
    "convnet = max_pool_2d(convnet, 3)\n",
    "\n",
    "convnet = conv_2d(convnet, 32, 3, activation='relu')\n",
    "\n",
    "convnet = conv_2d(convnet, 32, 3, activation='relu')\n",
    "\n",
    "convnet = max_pool_2d(convnet, 3)\n",
    "\n",
    "convnet = conv_2d(convnet, 64, 3, activation='relu')\n",
    "convnet = conv_2d(convnet, 64, 3, activation='relu')\n",
    "convnet = conv_2d(convnet, 64, 3, activation='relu')\n",
    "convnet = conv_2d(convnet, 64, 3, activation='relu')\n",
    "\n",
    "convnet = max_pool_2d(convnet, 3)\n",
    "\n",
    "convnet = conv_2d(convnet, 128, 3, activation='relu')\n",
    "convnet = conv_2d(convnet, 128, 3, activation='relu')\n",
    "convnet = conv_2d(convnet, 128, 3, activation='relu')\n",
    "convnet = conv_2d(convnet, 128, 3, activation='relu')\n",
    "\n",
    "convnet = max_pool_2d(convnet, 3)\n",
    "\n",
    "convnet = conv_2d(convnet, 128, 3, activation='relu')\n",
    "convnet = conv_2d(convnet, 128, 3, activation='relu')\n",
    "convnet = conv_2d(convnet, 128, 3, activation='relu')\n",
    "convnet = conv_2d(convnet, 128, 3, activation='relu')\n",
    "\n",
    "convnet = max_pool_2d(convnet, 3)\n",
    "\n",
    "convnet = fully_connected(convnet, 1024, activation='relu')\n",
    "convnet = fully_connected(convnet, 1024, activation='relu')\n",
    "convnet = fully_connected(convnet, 256, activation='relu')\n",
    "\n",
    "'''\n",
    "\n",
    "#CNN and LSTM combined\n",
    "\n",
    "'''\n",
    "convnet = conv_2d(convnet, 32, 2, activation='relu')\n",
    "convnet = max_pool_2d(convnet, 2)\n",
    "\n",
    "convnet = conv_2d(convnet, 64, 2, activation='relu')\n",
    "convnet = max_pool_2d(convnet, 2)\n",
    "\n",
    "convnet = conv_2d(convnet, 128, 2, activation='relu')\n",
    "convnet = max_pool_2d(convnet, 2)\n",
    "\n",
    "convnet = conv_2d(convnet, 64, 2, activation='relu')\n",
    "convnet = max_pool_2d(convnet, 2)\n",
    "\n",
    "convnet = conv_2d(convnet, 32, 2, activation='relu')\n",
    "convnet = max_pool_2d(convnet, 2)\n",
    "'''\n",
    "'''\n",
    "convnet = tf.reshape(convnet, shape=[-1, 4, 8])\n",
    "\n",
    "convnet =  tflearn.lstm(convnet, 128, activation='relu', return_seq=True)\n",
    "\n",
    "convnet =  tflearn.lstm(convnet, 128, activation='relu')\n",
    "\n",
    "'''\n",
    "'''\n",
    "convnet = fully_connected(convnet, 512, activation='relu')\n",
    "convnet = dropout(convnet, 0.8)\n",
    "'''\n",
    "\n",
    "#MUlti CNN\n",
    "\n",
    "'''\n",
    "convnet = conv_2d(convnet, 16, 5, activation='relu')\n",
    "convnet = conv_2d(convnet, 16, 5, activation='relu')\n",
    "convnet = conv_2d(convnet, 16, 5, activation='relu')\n",
    "convnet = conv_2d(convnet, 16, 5, activation='relu')\n",
    "convnet = max_pool_2d(convnet, 5)\n",
    "\n",
    "convnet = conv_2d(convnet, 32, 5, activation='relu')\n",
    "convnet = conv_2d(convnet, 32, 5, activation='relu')\n",
    "convnet = conv_2d(convnet, 32, 5, activation='relu')\n",
    "convnet = conv_2d(convnet, 32, 5, activation='relu')\n",
    "convnet = max_pool_2d(convnet, 5)\n",
    "\n",
    "convnet = conv_2d(convnet, 64, 5, activation='relu')\n",
    "convnet = conv_2d(convnet, 64, 5, activation='relu')\n",
    "convnet = conv_2d(convnet, 64, 5, activation='relu')\n",
    "convnet = max_pool_2d(convnet, 5)\n",
    "\n",
    "convnet = conv_2d(convnet, 32, 5, activation='relu')\n",
    "#convnet = max_pool_2d(convnet, 5)\n",
    "\n",
    "convnet = tf.reshape(convnet, shape=[-1, 4, 8])\n",
    "\n",
    "convnet =  tflearn.lstm(convnet, 256, activation='relu', return_seq=True)\n",
    "\n",
    "convnet =  tflearn.lstm(convnet, 256, activation='relu')\n",
    "'''\n",
    "'''\n",
    "convnet = fully_connected(convnet, 1024, activation='relu')\n",
    "convnet = dropout(convnet, 0.9)\n",
    "\n",
    "convnet = fully_connected(convnet, 512, activation='relu')\n",
    "convnet = dropout(convnet, 0.9)\n",
    "\n",
    "convnet = fully_connected(convnet, 256, activation='relu')\n",
    "convnet = dropout(convnet, 0.9)\n",
    "\n",
    "convnet = fully_connected(convnet, 128, activation='relu')\n",
    "#convnet = dropout(convnet, 0.8)\n",
    "'''\n",
    "\n",
    "#Light-NET\n",
    "'''\n",
    "\n",
    "\n",
    "# Conv layers ------------------------------------\n",
    "convnet = conv_2d(convnet, 32, 5, strides=2, activation='relu')\n",
    "convnet = conv_2d(convnet, 32, 3, strides=1, activation='relu')\n",
    "convnet = max_pool_2d(convnet, 3, strides=2)\n",
    "convnet = conv_2d(convnet, 128, 3, strides=1, activation='relu')\n",
    "convnet = max_pool_2d(convnet, 3, strides=2)\n",
    "\n",
    "\n",
    "# Fully Connected Layers -------------------------\n",
    "convnet1 = fully_connected(convnet, 128, activation='tanh')\n",
    "convnet1 = dropout(convnet1, 0.5)\n",
    "convnet2 = fully_connected(convnet, 128, activation='tanh')\n",
    "convnet2 = dropout(convnet2, 0.5)\n",
    "convnet = fully_connected(convnet1, 128, activation='tanh')\n",
    "convnet = dropout(convnet, 0.5)\n",
    "convnet = fully_connected(convnet2, 128, activation='tanh')\n",
    "convnet = dropout(convnet, 0.5)\n",
    "'''\n",
    "\n",
    "#Resnet like structure.\n",
    "\n",
    "convnet = conv_2d(convnet, 32, 2, activation='relu')\n",
    "one = conv_2d(convnet, 32, 2, activation='relu')\n",
    "convnet = max_pool_2d(convnet, 2)\n",
    "\n",
    "convnet = conv_2d(convnet, 64, 2, activation='relu')\n",
    "two=convnet = conv_2d(convnet, 64, 2, activation='relu')\n",
    "convnet = max_pool_2d(convnet, 2)\n",
    "\n",
    "convnet = conv_2d(convnet, 128, 2, activation='relu')\n",
    "three = conv_2d(convnet, 128, 2, activation='relu')\n",
    "convnet = conv_2d(one, 128, 2, activation='relu')\n",
    "convnet = max_pool_2d(convnet, 2)\n",
    "\n",
    "convnet = conv_2d(convnet, 64, 2, activation='relu')\n",
    "convnet = conv_2d(two, 64, 2, activation='relu')\n",
    "convnet = max_pool_2d(convnet, 2)\n",
    "\n",
    "convnet = conv_2d(convnet, 32, 2, activation='relu')\n",
    "convnet = conv_2d(three, 32, 2, activation='relu')\n",
    "convnet = max_pool_2d(convnet, 2)\n",
    "\n",
    "convnet = fully_connected(convnet, 512, activation='relu')\n",
    "convnet = dropout(convnet, 0.8)\n",
    "\n",
    "convnet = fully_connected(convnet, 256, activation='relu')\n",
    "convnet = dropout(convnet, 0.8)\n",
    "\n",
    "convnet = fully_connected(convnet, 128, activation='relu')\n",
    "\n",
    "convnet = fully_connected(convnet, 3, activation='softmax')\n",
    "convnet = regression(convnet, optimizer='adam', learning_rate=LR, loss='categorical_crossentropy', name='targets')\n",
    "\n",
    "model = tflearn.DNN(convnet, tensorboard_dir='log')\n",
    "\n",
    "if os.path.exists('{}.meta'.format(MODEL_NAME)):\n",
    "    model.load(MODEL_NAME)\n",
    "    print('model loaded!')\n",
    "\n",
    "\n",
    "\n",
    "\n",
    "X = np.array([i[0] for i in array]).reshape(-1,IMG_SIZE,IMG_SIZE,1)\n",
    "Y = [i[1] for i in array]\n",
    "\n",
    "\n",
    "test_X = np.array([i[0] for i in test]).reshape(-1,IMG_SIZE,IMG_SIZE,1)\n",
    "test_Y = [i[1] for i in test]\n",
    "\n",
    "\n",
    "model.fit({'input': X}, {'targets': Y}, n_epoch=10, snapshot_step=500, show_metric=True, run_id=MODEL_NAME, validation_set=({'input': test_X}, {'targets': test_Y}))\n",
    "\n",
    "model.save(MODEL_NAME)\n",
    "\n"
   ]
  },
  {
   "cell_type": "markdown",
   "metadata": {
    "collapsed": true
   },
   "source": [
    "# Load Trained Model and start playing the game."
   ]
  },
  {
   "cell_type": "code",
   "execution_count": 16,
   "metadata": {},
   "outputs": [
    {
     "name": "stdout",
     "output_type": "stream",
     "text": [
      "model loaded!\n"
     ]
    },
    {
     "ename": "KeyboardInterrupt",
     "evalue": "",
     "output_type": "error",
     "traceback": [
      "\u001b[1;31m---------------------------------------------------------------------------\u001b[0m",
      "\u001b[1;31mKeyboardInterrupt\u001b[0m                         Traceback (most recent call last)",
      "\u001b[1;32m<ipython-input-16-90e19310984c>\u001b[0m in \u001b[0;36m<module>\u001b[1;34m()\u001b[0m\n\u001b[0;32m     48\u001b[0m \u001b[1;33m\u001b[0m\u001b[0m\n\u001b[0;32m     49\u001b[0m \u001b[1;32mwhile\u001b[0m \u001b[1;32mTrue\u001b[0m\u001b[1;33m:\u001b[0m\u001b[1;33m\u001b[0m\u001b[0m\n\u001b[1;32m---> 50\u001b[1;33m     \u001b[0mframe\u001b[0m \u001b[1;33m=\u001b[0m \u001b[0mnp\u001b[0m\u001b[1;33m.\u001b[0m\u001b[0marray\u001b[0m\u001b[1;33m(\u001b[0m\u001b[0mcv2\u001b[0m\u001b[1;33m.\u001b[0m\u001b[0mresize\u001b[0m\u001b[1;33m(\u001b[0m\u001b[0mcv2\u001b[0m\u001b[1;33m.\u001b[0m\u001b[0mcvtColor\u001b[0m\u001b[1;33m(\u001b[0m \u001b[0mnp\u001b[0m\u001b[1;33m.\u001b[0m\u001b[0marray\u001b[0m\u001b[1;33m(\u001b[0m\u001b[0mImageGrab\u001b[0m\u001b[1;33m.\u001b[0m\u001b[0mgrab\u001b[0m\u001b[1;33m(\u001b[0m\u001b[0mbbox\u001b[0m\u001b[1;33m=\u001b[0m\u001b[1;33m(\u001b[0m\u001b[1;36m0\u001b[0m\u001b[1;33m,\u001b[0m\u001b[1;36m40\u001b[0m\u001b[1;33m,\u001b[0m\u001b[1;36m640\u001b[0m\u001b[1;33m,\u001b[0m\u001b[1;36m510\u001b[0m\u001b[1;33m)\u001b[0m\u001b[1;33m)\u001b[0m\u001b[1;33m)\u001b[0m\u001b[1;33m,\u001b[0m\u001b[0mcv2\u001b[0m\u001b[1;33m.\u001b[0m\u001b[0mCOLOR_BGR2GRAY\u001b[0m\u001b[1;33m)\u001b[0m\u001b[1;33m,\u001b[0m\u001b[1;33m(\u001b[0m\u001b[1;36m100\u001b[0m\u001b[1;33m,\u001b[0m\u001b[1;36m100\u001b[0m\u001b[1;33m)\u001b[0m\u001b[1;33m)\u001b[0m\u001b[1;33m)\u001b[0m\u001b[1;33m\u001b[0m\u001b[0m\n\u001b[0m\u001b[0;32m     51\u001b[0m     \u001b[0mframe\u001b[0m \u001b[1;33m=\u001b[0m \u001b[0mframe\u001b[0m\u001b[1;33m.\u001b[0m\u001b[0mflatten\u001b[0m\u001b[1;33m(\u001b[0m\u001b[1;33m)\u001b[0m\u001b[1;33m\u001b[0m\u001b[0m\n\u001b[0;32m     52\u001b[0m     \u001b[0mframe\u001b[0m \u001b[1;33m=\u001b[0m \u001b[0mframe\u001b[0m\u001b[1;33m.\u001b[0m\u001b[0mreshape\u001b[0m\u001b[1;33m(\u001b[0m\u001b[0mIMG_SIZE\u001b[0m\u001b[1;33m,\u001b[0m\u001b[0mIMG_SIZE\u001b[0m\u001b[1;33m,\u001b[0m\u001b[1;36m1\u001b[0m\u001b[1;33m)\u001b[0m\u001b[1;33m\u001b[0m\u001b[0m\n",
      "\u001b[1;32mc:\\users\\shekhar shiroor\\appdata\\local\\programs\\python\\python35\\lib\\site-packages\\PIL\\ImageGrab.py\u001b[0m in \u001b[0;36mgrab\u001b[1;34m(bbox)\u001b[0m\n\u001b[0;32m     39\u001b[0m         \u001b[0mos\u001b[0m\u001b[1;33m.\u001b[0m\u001b[0munlink\u001b[0m\u001b[1;33m(\u001b[0m\u001b[0mfilepath\u001b[0m\u001b[1;33m)\u001b[0m\u001b[1;33m\u001b[0m\u001b[0m\n\u001b[0;32m     40\u001b[0m     \u001b[1;32melse\u001b[0m\u001b[1;33m:\u001b[0m\u001b[1;33m\u001b[0m\u001b[0m\n\u001b[1;32m---> 41\u001b[1;33m         \u001b[0msize\u001b[0m\u001b[1;33m,\u001b[0m \u001b[0mdata\u001b[0m \u001b[1;33m=\u001b[0m \u001b[0mgrabber\u001b[0m\u001b[1;33m(\u001b[0m\u001b[1;33m)\u001b[0m\u001b[1;33m\u001b[0m\u001b[0m\n\u001b[0m\u001b[0;32m     42\u001b[0m         im = Image.frombytes(\n\u001b[0;32m     43\u001b[0m             \u001b[1;34m\"RGB\"\u001b[0m\u001b[1;33m,\u001b[0m \u001b[0msize\u001b[0m\u001b[1;33m,\u001b[0m \u001b[0mdata\u001b[0m\u001b[1;33m,\u001b[0m\u001b[1;33m\u001b[0m\u001b[0m\n",
      "\u001b[1;31mKeyboardInterrupt\u001b[0m: "
     ]
    }
   ],
   "source": [
    "tf.reset_default_graph()\n",
    "IMG_SIZE = 100\n",
    "LR = 1e-3\n",
    "\n",
    "MODEL_NAME = 'retropong-like-resnet-50000'\n",
    "\n",
    "convnet = input_data(shape=[None, IMG_SIZE, IMG_SIZE, 1], name='input')\n",
    "\n",
    "convnet = conv_2d(convnet, 32, 2, activation='relu')\n",
    "one = conv_2d(convnet, 32, 2, activation='relu')\n",
    "convnet = max_pool_2d(convnet, 2)\n",
    "\n",
    "convnet = conv_2d(convnet, 64, 2, activation='relu')\n",
    "two=convnet = conv_2d(convnet, 64, 2, activation='relu')\n",
    "convnet = max_pool_2d(convnet, 2)\n",
    "\n",
    "convnet = conv_2d(convnet, 128, 2, activation='relu')\n",
    "three = conv_2d(convnet, 128, 2, activation='relu')\n",
    "convnet = conv_2d(one, 128, 2, activation='relu')\n",
    "convnet = max_pool_2d(convnet, 2)\n",
    "\n",
    "convnet = conv_2d(convnet, 64, 2, activation='relu')\n",
    "convnet = conv_2d(two, 64, 2, activation='relu')\n",
    "convnet = max_pool_2d(convnet, 2)\n",
    "\n",
    "convnet = conv_2d(convnet, 32, 2, activation='relu')\n",
    "convnet = conv_2d(three, 32, 2, activation='relu')\n",
    "convnet = max_pool_2d(convnet, 2)\n",
    "\n",
    "convnet = fully_connected(convnet, 512, activation='relu')\n",
    "convnet = dropout(convnet, 0.8)\n",
    "\n",
    "convnet = fully_connected(convnet, 256, activation='relu')\n",
    "convnet = dropout(convnet, 0.8)\n",
    "\n",
    "convnet = fully_connected(convnet, 128, activation='relu')\n",
    "\n",
    "convnet = fully_connected(convnet, 3, activation='softmax')\n",
    "convnet = regression(convnet, optimizer='adam', learning_rate=LR, loss='categorical_crossentropy', name='targets')\n",
    "\n",
    "model = tflearn.DNN(convnet, tensorboard_dir='log')\n",
    "\n",
    "\n",
    "if os.path.exists('{}.meta'.format(MODEL_NAME)):\n",
    "    model.load(MODEL_NAME)\n",
    "    print('model loaded!')\n",
    "\n",
    "\n",
    "while True:\n",
    "    frame = np.array(cv2.resize(cv2.cvtColor( np.array(ImageGrab.grab(bbox=(0,40,640,510))),cv2.COLOR_BGR2GRAY),(100,100)))\n",
    "    frame = frame.flatten()\n",
    "    frame = frame.reshape(IMG_SIZE,IMG_SIZE,1)\n",
    "    model_out = model.predict([frame])\n",
    "    \n",
    "    if np.argmax(model_out) == 0:\n",
    "        keyboard.press('W')\n",
    "        time.sleep(0.04)\n",
    "        keyboard.release('W')\n",
    "        #print(np.argmax(model_out))\n",
    "        \n",
    "    elif np.argmax(model_out) == 1:\n",
    "        keyboard.press('S')\n",
    "        time.sleep(0.04)\n",
    "        keyboard.release('S')\n",
    "        #print(np.argmax(model_out))\n",
    "        \n",
    "    else:\n",
    "        #print(np.argmax(model_out))\n",
    "        continue\n",
    "        "
   ]
  },
  {
   "cell_type": "code",
   "execution_count": 7,
   "metadata": {
    "collapsed": true
   },
   "outputs": [],
   "source": [
    "model = []"
   ]
  },
  {
   "cell_type": "code",
   "execution_count": 12,
   "metadata": {},
   "outputs": [
    {
     "name": "stdout",
     "output_type": "stream",
     "text": [
      "model loaded!\n"
     ]
    },
    {
     "ename": "KeyboardInterrupt",
     "evalue": "",
     "output_type": "error",
     "traceback": [
      "\u001b[1;31m---------------------------------------------------------------------------\u001b[0m",
      "\u001b[1;31mKeyboardInterrupt\u001b[0m                         Traceback (most recent call last)",
      "\u001b[1;32m<ipython-input-12-57f0b357785f>\u001b[0m in \u001b[0;36m<module>\u001b[1;34m()\u001b[0m\n\u001b[0;32m     43\u001b[0m \u001b[1;33m\u001b[0m\u001b[0m\n\u001b[0;32m     44\u001b[0m \u001b[1;32mwhile\u001b[0m \u001b[1;32mTrue\u001b[0m\u001b[1;33m:\u001b[0m\u001b[1;33m\u001b[0m\u001b[0m\n\u001b[1;32m---> 45\u001b[1;33m     \u001b[0mframe\u001b[0m \u001b[1;33m=\u001b[0m \u001b[0mnp\u001b[0m\u001b[1;33m.\u001b[0m\u001b[0marray\u001b[0m\u001b[1;33m(\u001b[0m\u001b[0mcv2\u001b[0m\u001b[1;33m.\u001b[0m\u001b[0mresize\u001b[0m\u001b[1;33m(\u001b[0m\u001b[0mcv2\u001b[0m\u001b[1;33m.\u001b[0m\u001b[0mcvtColor\u001b[0m\u001b[1;33m(\u001b[0m \u001b[0mnp\u001b[0m\u001b[1;33m.\u001b[0m\u001b[0marray\u001b[0m\u001b[1;33m(\u001b[0m\u001b[0mImageGrab\u001b[0m\u001b[1;33m.\u001b[0m\u001b[0mgrab\u001b[0m\u001b[1;33m(\u001b[0m\u001b[0mbbox\u001b[0m\u001b[1;33m=\u001b[0m\u001b[1;33m(\u001b[0m\u001b[1;36m0\u001b[0m\u001b[1;33m,\u001b[0m\u001b[1;36m40\u001b[0m\u001b[1;33m,\u001b[0m\u001b[1;36m640\u001b[0m\u001b[1;33m,\u001b[0m\u001b[1;36m510\u001b[0m\u001b[1;33m)\u001b[0m\u001b[1;33m)\u001b[0m\u001b[1;33m)\u001b[0m\u001b[1;33m,\u001b[0m\u001b[0mcv2\u001b[0m\u001b[1;33m.\u001b[0m\u001b[0mCOLOR_BGR2GRAY\u001b[0m\u001b[1;33m)\u001b[0m\u001b[1;33m,\u001b[0m\u001b[1;33m(\u001b[0m\u001b[1;36m100\u001b[0m\u001b[1;33m,\u001b[0m\u001b[1;36m100\u001b[0m\u001b[1;33m)\u001b[0m\u001b[1;33m)\u001b[0m\u001b[1;33m)\u001b[0m\u001b[1;33m\u001b[0m\u001b[0m\n\u001b[0m\u001b[0;32m     46\u001b[0m     \u001b[0mframe\u001b[0m \u001b[1;33m=\u001b[0m \u001b[0mframe\u001b[0m\u001b[1;33m.\u001b[0m\u001b[0mflatten\u001b[0m\u001b[1;33m(\u001b[0m\u001b[1;33m)\u001b[0m\u001b[1;33m\u001b[0m\u001b[0m\n\u001b[0;32m     47\u001b[0m     \u001b[0mframe\u001b[0m \u001b[1;33m=\u001b[0m \u001b[0mframe\u001b[0m\u001b[1;33m.\u001b[0m\u001b[0mreshape\u001b[0m\u001b[1;33m(\u001b[0m\u001b[0mIMG_SIZE\u001b[0m\u001b[1;33m,\u001b[0m\u001b[0mIMG_SIZE\u001b[0m\u001b[1;33m,\u001b[0m\u001b[1;36m1\u001b[0m\u001b[1;33m)\u001b[0m\u001b[1;33m\u001b[0m\u001b[0m\n",
      "\u001b[1;32mc:\\users\\shekhar shiroor\\appdata\\local\\programs\\python\\python35\\lib\\site-packages\\PIL\\ImageGrab.py\u001b[0m in \u001b[0;36mgrab\u001b[1;34m(bbox)\u001b[0m\n\u001b[0;32m     43\u001b[0m             \u001b[1;34m\"RGB\"\u001b[0m\u001b[1;33m,\u001b[0m \u001b[0msize\u001b[0m\u001b[1;33m,\u001b[0m \u001b[0mdata\u001b[0m\u001b[1;33m,\u001b[0m\u001b[1;33m\u001b[0m\u001b[0m\n\u001b[0;32m     44\u001b[0m             \u001b[1;31m# RGB, 32-bit line padding, origin lower left corner\u001b[0m\u001b[1;33m\u001b[0m\u001b[1;33m\u001b[0m\u001b[0m\n\u001b[1;32m---> 45\u001b[1;33m             \u001b[1;34m\"raw\"\u001b[0m\u001b[1;33m,\u001b[0m \u001b[1;34m\"BGR\"\u001b[0m\u001b[1;33m,\u001b[0m \u001b[1;33m(\u001b[0m\u001b[0msize\u001b[0m\u001b[1;33m[\u001b[0m\u001b[1;36m0\u001b[0m\u001b[1;33m]\u001b[0m\u001b[1;33m*\u001b[0m\u001b[1;36m3\u001b[0m \u001b[1;33m+\u001b[0m \u001b[1;36m3\u001b[0m\u001b[1;33m)\u001b[0m \u001b[1;33m&\u001b[0m \u001b[1;33m-\u001b[0m\u001b[1;36m4\u001b[0m\u001b[1;33m,\u001b[0m \u001b[1;33m-\u001b[0m\u001b[1;36m1\u001b[0m\u001b[1;33m\u001b[0m\u001b[0m\n\u001b[0m\u001b[0;32m     46\u001b[0m             )\n\u001b[0;32m     47\u001b[0m     \u001b[1;32mif\u001b[0m \u001b[0mbbox\u001b[0m\u001b[1;33m:\u001b[0m\u001b[1;33m\u001b[0m\u001b[0m\n",
      "\u001b[1;32mc:\\users\\shekhar shiroor\\appdata\\local\\programs\\python\\python35\\lib\\site-packages\\PIL\\Image.py\u001b[0m in \u001b[0;36mfrombytes\u001b[1;34m(mode, size, data, decoder_name, *args)\u001b[0m\n\u001b[0;32m   2263\u001b[0m         \u001b[0margs\u001b[0m \u001b[1;33m=\u001b[0m \u001b[0mmode\u001b[0m\u001b[1;33m\u001b[0m\u001b[0m\n\u001b[0;32m   2264\u001b[0m \u001b[1;33m\u001b[0m\u001b[0m\n\u001b[1;32m-> 2265\u001b[1;33m     \u001b[0mim\u001b[0m \u001b[1;33m=\u001b[0m \u001b[0mnew\u001b[0m\u001b[1;33m(\u001b[0m\u001b[0mmode\u001b[0m\u001b[1;33m,\u001b[0m \u001b[0msize\u001b[0m\u001b[1;33m)\u001b[0m\u001b[1;33m\u001b[0m\u001b[0m\n\u001b[0m\u001b[0;32m   2266\u001b[0m     \u001b[0mim\u001b[0m\u001b[1;33m.\u001b[0m\u001b[0mfrombytes\u001b[0m\u001b[1;33m(\u001b[0m\u001b[0mdata\u001b[0m\u001b[1;33m,\u001b[0m \u001b[0mdecoder_name\u001b[0m\u001b[1;33m,\u001b[0m \u001b[0margs\u001b[0m\u001b[1;33m)\u001b[0m\u001b[1;33m\u001b[0m\u001b[0m\n\u001b[0;32m   2267\u001b[0m     \u001b[1;32mreturn\u001b[0m \u001b[0mim\u001b[0m\u001b[1;33m\u001b[0m\u001b[0m\n",
      "\u001b[1;32mc:\\users\\shekhar shiroor\\appdata\\local\\programs\\python\\python35\\lib\\site-packages\\PIL\\Image.py\u001b[0m in \u001b[0;36mnew\u001b[1;34m(mode, size, color)\u001b[0m\n\u001b[0;32m   2227\u001b[0m         \u001b[0mcolor\u001b[0m \u001b[1;33m=\u001b[0m \u001b[0mImageColor\u001b[0m\u001b[1;33m.\u001b[0m\u001b[0mgetcolor\u001b[0m\u001b[1;33m(\u001b[0m\u001b[0mcolor\u001b[0m\u001b[1;33m,\u001b[0m \u001b[0mmode\u001b[0m\u001b[1;33m)\u001b[0m\u001b[1;33m\u001b[0m\u001b[0m\n\u001b[0;32m   2228\u001b[0m \u001b[1;33m\u001b[0m\u001b[0m\n\u001b[1;32m-> 2229\u001b[1;33m     \u001b[1;32mreturn\u001b[0m \u001b[0mImage\u001b[0m\u001b[1;33m(\u001b[0m\u001b[1;33m)\u001b[0m\u001b[1;33m.\u001b[0m\u001b[0m_new\u001b[0m\u001b[1;33m(\u001b[0m\u001b[0mcore\u001b[0m\u001b[1;33m.\u001b[0m\u001b[0mfill\u001b[0m\u001b[1;33m(\u001b[0m\u001b[0mmode\u001b[0m\u001b[1;33m,\u001b[0m \u001b[0msize\u001b[0m\u001b[1;33m,\u001b[0m \u001b[0mcolor\u001b[0m\u001b[1;33m)\u001b[0m\u001b[1;33m)\u001b[0m\u001b[1;33m\u001b[0m\u001b[0m\n\u001b[0m\u001b[0;32m   2230\u001b[0m \u001b[1;33m\u001b[0m\u001b[0m\n\u001b[0;32m   2231\u001b[0m \u001b[1;33m\u001b[0m\u001b[0m\n",
      "\u001b[1;31mKeyboardInterrupt\u001b[0m: "
     ]
    }
   ],
   "source": [
    "# another Variant \n",
    "\n",
    "tf.reset_default_graph()\n",
    "IMG_SIZE = 100\n",
    "LR = 1e-3\n",
    "\n",
    "MODEL_NAME = 'retropong-cnn_lstm-train-50000'\n",
    "\n",
    "convnet = input_data(shape=[None, IMG_SIZE, IMG_SIZE, 1], name='input')\n",
    "\n",
    "convnet = conv_2d(convnet, 32, 5, activation='relu')\n",
    "convnet = max_pool_2d(convnet, 5)\n",
    "\n",
    "convnet = conv_2d(convnet, 64, 5, activation='relu')\n",
    "convnet = max_pool_2d(convnet, 5)\n",
    "\n",
    "convnet = conv_2d(convnet, 128, 5, activation='relu')\n",
    "convnet = max_pool_2d(convnet, 5)\n",
    "\n",
    "convnet = conv_2d(convnet, 64, 5, activation='relu')\n",
    "convnet = max_pool_2d(convnet, 5)\n",
    "\n",
    "convnet = conv_2d(convnet, 32, 5, activation='relu')\n",
    "convnet = max_pool_2d(convnet, 5)\n",
    "\n",
    "convnet = tf.reshape(convnet, shape=[-1, 4, 8])\n",
    "\n",
    "convnet =  tflearn.lstm(convnet, 128, activation='relu', return_seq=True)\n",
    "\n",
    "convnet =  tflearn.lstm(convnet, 128, activation='relu')\n",
    "\n",
    "\n",
    "convnet = fully_connected(convnet, 3, activation='softmax')\n",
    "convnet = regression(convnet, optimizer='adam', learning_rate=LR, loss='categorical_crossentropy', name='targets')\n",
    "\n",
    "model = tflearn.DNN(convnet, tensorboard_dir='log')\n",
    "\n",
    "\n",
    "if os.path.exists('{}.meta'.format(MODEL_NAME)):\n",
    "    model.load(MODEL_NAME)\n",
    "    print('model loaded!')\n",
    "\n",
    "\n",
    "while True:\n",
    "    frame = np.array(cv2.resize(cv2.cvtColor( np.array(ImageGrab.grab(bbox=(0,40,640,510))),cv2.COLOR_BGR2GRAY),(100,100)))\n",
    "    frame = frame.flatten()\n",
    "    frame = frame.reshape(IMG_SIZE,IMG_SIZE,1)\n",
    "    model_out = model.predict([frame])\n",
    "    \n",
    "    if np.argmax(model_out) == 0:\n",
    "        keyboard.press('W')\n",
    "        time.sleep(0.04)\n",
    "        keyboard.release('W')\n",
    "        #print(np.argmax(model_out))\n",
    "        \n",
    "    elif np.argmax(model_out) == 1:\n",
    "        keyboard.press('S')\n",
    "        time.sleep(0.04)\n",
    "        keyboard.release('S')\n",
    "        #print(np.argmax(model_out))\n",
    "        \n",
    "    else:\n",
    "        #print(np.argmax(model_out))\n",
    "        continue"
   ]
  },
  {
   "cell_type": "markdown",
   "metadata": {
    "collapsed": true
   },
   "source": [
    "# Tensorboard embedding visualizer code"
   ]
  },
  {
   "cell_type": "code",
   "execution_count": 4,
   "metadata": {},
   "outputs": [
    {
     "name": "stderr",
     "output_type": "stream",
     "text": [
      "100%|██████████████████████████████████████████████████████████████████████████| 2000/2000 [00:00<00:00, 306892.81it/s]\n"
     ]
    }
   ],
   "source": [
    "array = np.load('data.npy')\n",
    "array = array.reshape(50000,2)\n",
    "\n",
    "\n",
    "\n",
    "file = open( 'metadata.tsv', 'w')\n",
    "file.write('Name\\tClass\\n')\n",
    "\n",
    "for i in tqdm(range(0,2000)):\n",
    "    temp = array[i][1]\n",
    "    if(temp[0]==1):\n",
    "        file.write('%s\\n' % ('W'))\n",
    "    elif(temp[1] == 1):\n",
    "        file.write('%s\\n' % ('S'))\n",
    "    else:\n",
    "        file.write('%s\\n' % ('NA'))\n",
    "        \n",
    "file.close()        \n",
    "\n",
    "#file.write('%06d\\t%s\\n' % (i,'NA'))"
   ]
  },
  {
   "cell_type": "code",
   "execution_count": 5,
   "metadata": {},
   "outputs": [
    {
     "name": "stderr",
     "output_type": "stream",
     "text": [
      "100%|██████████████████████████████████████████████████████████████████████████████| 2000/2000 [01:40<00:00, 19.94it/s]\n"
     ]
    },
    {
     "data": {
      "text/plain": [
       "'./log/model.ckpt-0'"
      ]
     },
     "execution_count": 5,
     "metadata": {},
     "output_type": "execute_result"
    }
   ],
   "source": [
    "import tensorflow as tf\n",
    "from tensorflow.contrib.tensorboard.plugins import projector\n",
    "\n",
    "array = np.load('data.npy')\n",
    "array = array.reshape(50000,2)\n",
    "\n",
    "temp = []\n",
    "\n",
    "for i in tqdm(range(0,2000)):\n",
    "    temp = np.append(temp,array[i][0])\n",
    "\n",
    "temp = temp.reshape(2000,10000)    \n",
    "\n",
    "embedding_variable = tf.Variable(temp, name='embedding')\n",
    "\n",
    "summary_writer = tf.summary.FileWriter('./log')\n",
    "config = projector.ProjectorConfig()\n",
    "embedding = config.embeddings.add()\n",
    "embedding.tensor_name = embedding_variable.name\n",
    "embedding.metadata_path = 'metadata.tsv'\n",
    "projector.visualize_embeddings(summary_writer, config)\n",
    "\n",
    "\n",
    "session = tf.InteractiveSession()\n",
    "session.run(tf.global_variables_initializer())\n",
    "\n",
    "saver = tf.train.Saver()\n",
    "saver.save(session, './log/model.ckpt', 0)"
   ]
  },
  {
   "cell_type": "code",
   "execution_count": null,
   "metadata": {},
   "outputs": [],
   "source": []
  },
  {
   "cell_type": "code",
   "execution_count": null,
   "metadata": {
    "collapsed": true
   },
   "outputs": [],
   "source": []
  },
  {
   "cell_type": "code",
   "execution_count": null,
   "metadata": {
    "collapsed": true
   },
   "outputs": [],
   "source": []
  }
 ],
 "metadata": {
  "kernelspec": {
   "display_name": "Python 3",
   "language": "python",
   "name": "python3"
  },
  "language_info": {
   "codemirror_mode": {
    "name": "ipython",
    "version": 3
   },
   "file_extension": ".py",
   "mimetype": "text/x-python",
   "name": "python",
   "nbconvert_exporter": "python",
   "pygments_lexer": "ipython3",
   "version": "3.5.4"
  }
 },
 "nbformat": 4,
 "nbformat_minor": 2
}
